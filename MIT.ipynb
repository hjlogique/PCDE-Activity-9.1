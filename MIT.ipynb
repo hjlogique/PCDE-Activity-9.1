{
 "cells": [
  {
   "cell_type": "markdown",
   "metadata": {},
   "source": [
    "# The Massachusetts Institute of Technology (MIT)\n",
    "\n",
    "**HENRY JEAN LOGIQUE**<br>\n",
    "**Github: hjlogique**\n",
    "\n",
    "The Massachusetts Institute of Technology (MIT) is a private Land-grant university in Cambridge, Massachusetts. Established in 1861, MIT has since then been at the center of the development of modern technology and science. Since it was founded, MIT has been ranked among the top academic institutions in the world.\n",
    "\n",
    "The original MIT logo (seal) was created by the corporation in a design recommended by the Committee on the Seal, with President William Barton Rogers and the Treasurer of the Institute as members. The seal was engraved in Philadelphia in November 1865 by A. Paquet at a cost of $285, and it represents the Latin motto Mens et Manus—\"mind and hand\"—and the volumes, Science and Arts, on the pedestal in the middle, with two figures on the sides symbolizing the fields of Science and Art, which also reflect the ideal of cooperation between knowledge and practice. The image below displays the original logo.\n",
    "\n",
    "<img src=\"https://upload.wikimedia.org/wikipedia/en/thumb/4/44/MIT_Seal.svg/1920px-MIT_Seal.svg.png\" width = 400px>"
   ]
  },
  {
   "cell_type": "code",
   "execution_count": null,
   "metadata": {},
   "outputs": [],
   "source": []
  }
 ],
 "metadata": {
  "kernelspec": {
   "display_name": "Python 3 (ipykernel)",
   "language": "python",
   "name": "python3"
  },
  "language_info": {
   "codemirror_mode": {
    "name": "ipython",
    "version": 3
   },
   "file_extension": ".py",
   "mimetype": "text/x-python",
   "name": "python",
   "nbconvert_exporter": "python",
   "pygments_lexer": "ipython3",
   "version": "3.10.11"
  }
 },
 "nbformat": 4,
 "nbformat_minor": 4
}
